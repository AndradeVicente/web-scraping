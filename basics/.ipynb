{
 "cells": [
  {
   "cell_type": "markdown",
   "metadata": {},
   "source": [
    "# BeatifulSoup Basics"
   ]
  },
  {
   "cell_type": "code",
   "execution_count": 2,
   "metadata": {},
   "outputs": [],
   "source": [
    "from bs4 import BeautifulSoup\n",
    "import requests"
   ]
  },
  {
   "cell_type": "markdown",
   "metadata": {},
   "source": [
    "### Scraping from files"
   ]
  },
  {
   "cell_type": "code",
   "execution_count": 3,
   "metadata": {},
   "outputs": [
    {
     "name": "stdout",
     "output_type": "stream",
     "text": [
      "Python for beginners\n",
      "Python Web Development\n",
      "Python Machine Learning\n"
     ]
    }
   ],
   "source": [
    "with open(\"home.html\", 'r') as html_file:\n",
    "    raw = html_file.read()\n",
    "    \n",
    "    soup = BeautifulSoup(raw, \"html.parser\")\n",
    "    tags = soup.find_all(\"h5\")\n",
    "    \n",
    "    for course in tags:\n",
    "        print(course.text)\n",
    "        "
   ]
  },
  {
   "cell_type": "code",
   "execution_count": 16,
   "metadata": {},
   "outputs": [
    {
     "name": "stdout",
     "output_type": "stream",
     "text": [
      "Python for beginners costs 20$\n",
      "Python Web Development costs 50$\n",
      "Python Machine Learning costs 100$\n"
     ]
    }
   ],
   "source": [
    "with open(\"home.html\", 'r') as html_file:\n",
    "    raw = html_file.read()\n",
    "\n",
    "    soup = BeautifulSoup(raw, \"html.parser\")\n",
    "    course_cards = soup.find_all('div', class_='card')\n",
    "\n",
    "    for course in course_cards:\n",
    "        course_name = course.h5.text\n",
    "        course_price = course.a.text.split()[-1]\n",
    "\n",
    "        print(f'{course_name} costs {course_price}')\n",
    "        \n"
   ]
  },
  {
   "cell_type": "markdown",
   "metadata": {},
   "source": [
    "### Scraping from web"
   ]
  },
  {
   "cell_type": "code",
   "execution_count": 64,
   "metadata": {},
   "outputs": [
    {
     "name": "stdout",
     "output_type": "stream",
     "text": [
      "                                                Title            Price\n",
      "0   20 Metros Corda Shibari Fetiche Bondage 100% A...    R$58,905% OFF\n",
      "1   Corda De Algodão Colorida Com Alma - 2kg Aprox...  R$121,6026% OFF\n",
      "2   Corda Juta Asanawa Natural Amatsunawa 6mm X 10...    R$46,526% OFF\n",
      "3   Corda Juta Shibari Asanawa Jbo Amatsunawa Maci...    R$65,555% OFF\n",
      "4   Kit 2 Cordas 10 Metros 5milimetros Shibari Ini...          R$25,90\n",
      "5   Corda Shibari Rope Para Bondage 100% Algodão 5...             R$29\n",
      "6            2 Cordas De Juta Torcida  8 Metros X 6mm    R$74,565% OFF\n",
      "7   Corda Shibari Fetiche Bondage 100% Algodão 10 ...    R$29,455% OFF\n",
      "8   Corda Shibari Fetiche Bondage Algodão 15 Metro...    R$52,255% OFF\n",
      "9   Corda Shibari Fetiche Bondage Algodão 20 Metro...      R$5410% OFF\n",
      "10  20m Corda 100% Algodão 10mm Cesto Crú Shibari ...   R$70,6510% OFF\n",
      "11  Corda Shibari Rope Para Bondage 100% Algodão 1...             R$39\n",
      "12  Kit 7 Cordas Torcida Algodão Cores Variadas 8 ...   R$217,065% OFF\n",
      "13  50 Metros Corda Shibari Fetiche Bondage 100% A...   R$142,505% OFF\n",
      "14  20 Metros Corda Shibari Fetiche Bondage Algodã...    R$66,505% OFF\n",
      "15  20 Metros Corda Shibari Fetiche Bondage 100% A...    R$58,905% OFF\n",
      "16  Corda Shibari Fetiche Rope Para Bondage 100% A...             R$29\n",
      "17  Quadro Decorativo Shibari Arte Em Cordas Com M...          R$77,70\n",
      "18  20m Corda De Algodão 10mm Alma Tnt Shibari Fle...             R$60\n",
      "19  Quadro Decorativo Shibari Com Moldura E Acetat...          R$77,70\n",
      "20  Lindo Quadro Bettie Page Decoração Bdsm Shibar...          R$49,47\n",
      "21  Placa Kinbaku Shibari Decorativa Incensário - ...         R$130,90\n",
      "22  Sunga Calcinha De Homens Ricok Thong Fio Denta...          R$81,95\n",
      "23  Ponteiro Talhadeira Sextavado Shibaru Sh7900 H...         R$269,99\n",
      "24  Talhadeira Sextavado Shibaru Sh7900 Hammer 30x...         R$153,37\n",
      "25             Camiseta Shibari Suspense Rope Bondage         R$104,94\n",
      "26             Camiseta Shibari Suspense Rope Bondage          R$99,11\n",
      "27             Camiseta Shibari Suspense Rope Bondage          R$99,11\n",
      "28          Camiseta Ct Shibari Suspense Rope Bondage          R$99,11\n",
      "29          Da Camiseta Shibari Suspense Rope Bondage          R$99,11\n",
      "30             Camiseta Shibari Suspense Rope Bondage         R$128,26\n",
      "31  Livro: Shibari: O Guia Passo A Passo Para Apre...         R$216,06\n",
      "32            Shibari Juan Jose Burzi Evaristo Libros         R$528,42\n",
      "33                     Shibari - Burzi - Ed. Evaristo         R$382,06\n",
      "34            Shibari Juan Jose Burzi Evaristo Libros         R$378,42\n"
     ]
    }
   ],
   "source": [
    "import pandas as pd\n",
    "\n",
    "url = \"https://lista.mercadolivre.com.br/corda-shibari#D[A:corda%20shibari]\"\n",
    "\n",
    "html_text = requests.get(url)\n",
    "\n",
    "soup = BeautifulSoup(html_text.text, \"html.parser\")\n",
    "products = soup.find_all('li', class_='ui-search-layout__item shops__layout-item')\n",
    "\n",
    "data = []\n",
    "for product in products:\n",
    "    product_name = product.find('h2', class_='poly-box poly-component__title').text\n",
    "    product_actual_price = product.find('div', class_='poly-price__current').text\n",
    "\n",
    "    data.append({'Title': product_name, 'Price': product_actual_price})\n",
    "\n",
    "    df = pd.DataFrame(data)\n",
    "\n",
    "print(df)"
   ]
  },
  {
   "cell_type": "code",
   "execution_count": 6,
   "metadata": {},
   "outputs": [
    {
     "data": {
      "text/plain": [
       "['$']"
      ]
     },
     "execution_count": 6,
     "metadata": {},
     "output_type": "execute_result"
    }
   ],
   "source": [
    "doc.find_all(string=\"$\")\n"
   ]
  },
  {
   "cell_type": "code",
   "execution_count": null,
   "metadata": {},
   "outputs": [],
   "source": []
  },
  {
   "cell_type": "code",
   "execution_count": null,
   "metadata": {},
   "outputs": [],
   "source": []
  }
 ],
 "metadata": {
  "kernelspec": {
   "display_name": "Python 3",
   "language": "python",
   "name": "python3"
  },
  "language_info": {
   "codemirror_mode": {
    "name": "ipython",
    "version": 3
   },
   "file_extension": ".py",
   "mimetype": "text/x-python",
   "name": "python",
   "nbconvert_exporter": "python",
   "pygments_lexer": "ipython3",
   "version": "3.12.3"
  }
 },
 "nbformat": 4,
 "nbformat_minor": 2
}
